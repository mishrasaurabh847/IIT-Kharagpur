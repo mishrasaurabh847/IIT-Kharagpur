{
 "cells": [
  {
   "cell_type": "markdown",
   "id": "9bb01b78-0dcf-4e3e-bbfe-fa53bbf40c78",
   "metadata": {
    "id": "9bb01b78-0dcf-4e3e-bbfe-fa53bbf40c78"
   },
   "source": [
    "# **Question 1:  SVM Implementation**"
   ]
  },
  {
   "cell_type": "markdown",
   "id": "96aa654b-8555-4df9-ab5c-aad39eb9e914",
   "metadata": {
    "id": "96aa654b-8555-4df9-ab5c-aad39eb9e914"
   },
   "source": [
    "## Importing necessary libraries"
   ]
  },
  {
   "cell_type": "code",
   "execution_count": 1,
   "id": "01b50f2d-b922-4f94-8fe3-24e4c8143a7c",
   "metadata": {
    "id": "01b50f2d-b922-4f94-8fe3-24e4c8143a7c"
   },
   "outputs": [],
   "source": [
    "import numpy as np\n",
    "from sklearn import datasets\n",
    "from sklearn.model_selection import train_test_split\n",
    "from sklearn.svm import SVC\n",
    "from sklearn.metrics import accuracy_score, precision_score, recall_score, f1_score\n",
    "import matplotlib.pyplot as plt\n",
    "import pandas as pd"
   ]
  },
  {
   "cell_type": "markdown",
   "id": "LZSC4_xGvb1W",
   "metadata": {
    "id": "LZSC4_xGvb1W"
   },
   "source": [
    "### Removing warnings"
   ]
  },
  {
   "cell_type": "code",
   "execution_count": 2,
   "id": "ac2601ee-40c0-42ea-95d8-fdd7fa8e8647",
   "metadata": {
    "id": "ac2601ee-40c0-42ea-95d8-fdd7fa8e8647"
   },
   "outputs": [],
   "source": [
    "import warnings\n",
    "\n",
    "# To ignore all warnings:\n",
    "warnings.filterwarnings(\"ignore\")\n",
    "\n",
    "# To ignore a specific type of warning (e.g., DeprecationWarning):\n",
    "warnings.filterwarnings(\"ignore\", category=DeprecationWarning)"
   ]
  },
  {
   "cell_type": "markdown",
   "id": "bDv4iieEv2eW",
   "metadata": {
    "id": "bDv4iieEv2eW"
   },
   "source": [
    "## Loading Dataset"
   ]
  },
  {
   "cell_type": "code",
   "execution_count": 3,
   "id": "b407917d-0d5d-4cb0-ae0f-d35bb0d7851f",
   "metadata": {
    "id": "b407917d-0d5d-4cb0-ae0f-d35bb0d7851f",
    "outputId": "707b0f92-a30e-4751-bc0f-bbcd1f44fae4"
   },
   "outputs": [
    {
     "name": "stdout",
     "output_type": "stream",
     "text": [
      "      word_freq_make  word_freq_address  word_freq_all  word_freq_3d  \\\n",
      "0               0.00               0.64           0.64           0.0   \n",
      "1               0.21               0.28           0.50           0.0   \n",
      "2               0.06               0.00           0.71           0.0   \n",
      "3               0.00               0.00           0.00           0.0   \n",
      "4               0.00               0.00           0.00           0.0   \n",
      "...              ...                ...            ...           ...   \n",
      "4596            0.31               0.00           0.62           0.0   \n",
      "4597            0.00               0.00           0.00           0.0   \n",
      "4598            0.30               0.00           0.30           0.0   \n",
      "4599            0.96               0.00           0.00           0.0   \n",
      "4600            0.00               0.00           0.65           0.0   \n",
      "\n",
      "      word_freq_our  word_freq_over  word_freq_remove  word_freq_internet  \\\n",
      "0              0.32            0.00              0.00                0.00   \n",
      "1              0.14            0.28              0.21                0.07   \n",
      "2              1.23            0.19              0.19                0.12   \n",
      "3              0.63            0.00              0.31                0.63   \n",
      "4              0.63            0.00              0.31                0.63   \n",
      "...             ...             ...               ...                 ...   \n",
      "4596           0.00            0.31              0.00                0.00   \n",
      "4597           0.00            0.00              0.00                0.00   \n",
      "4598           0.00            0.00              0.00                0.00   \n",
      "4599           0.32            0.00              0.00                0.00   \n",
      "4600           0.00            0.00              0.00                0.00   \n",
      "\n",
      "      word_freq_order  word_freq_mail  ...  word_freq_conference  char_freq_;  \\\n",
      "0                0.00            0.00  ...                   0.0        0.000   \n",
      "1                0.00            0.94  ...                   0.0        0.000   \n",
      "2                0.64            0.25  ...                   0.0        0.010   \n",
      "3                0.31            0.63  ...                   0.0        0.000   \n",
      "4                0.31            0.63  ...                   0.0        0.000   \n",
      "...               ...             ...  ...                   ...          ...   \n",
      "4596             0.00            0.00  ...                   0.0        0.000   \n",
      "4597             0.00            0.00  ...                   0.0        0.000   \n",
      "4598             0.00            0.00  ...                   0.0        0.102   \n",
      "4599             0.00            0.00  ...                   0.0        0.000   \n",
      "4600             0.00            0.00  ...                   0.0        0.000   \n",
      "\n",
      "      char_freq_(  char_freq_[  char_freq_!  char_freq_$  char_freq_#  \\\n",
      "0           0.000          0.0        0.778        0.000        0.000   \n",
      "1           0.132          0.0        0.372        0.180        0.048   \n",
      "2           0.143          0.0        0.276        0.184        0.010   \n",
      "3           0.137          0.0        0.137        0.000        0.000   \n",
      "4           0.135          0.0        0.135        0.000        0.000   \n",
      "...           ...          ...          ...          ...          ...   \n",
      "4596        0.232          0.0        0.000        0.000        0.000   \n",
      "4597        0.000          0.0        0.353        0.000        0.000   \n",
      "4598        0.718          0.0        0.000        0.000        0.000   \n",
      "4599        0.057          0.0        0.000        0.000        0.000   \n",
      "4600        0.000          0.0        0.125        0.000        0.000   \n",
      "\n",
      "      capital_run_length_average  capital_run_length_longest  \\\n",
      "0                          3.756                          61   \n",
      "1                          5.114                         101   \n",
      "2                          9.821                         485   \n",
      "3                          3.537                          40   \n",
      "4                          3.537                          40   \n",
      "...                          ...                         ...   \n",
      "4596                       1.142                           3   \n",
      "4597                       1.555                           4   \n",
      "4598                       1.404                           6   \n",
      "4599                       1.147                           5   \n",
      "4600                       1.250                           5   \n",
      "\n",
      "      capital_run_length_total  \n",
      "0                          278  \n",
      "1                         1028  \n",
      "2                         2259  \n",
      "3                          191  \n",
      "4                          191  \n",
      "...                        ...  \n",
      "4596                        88  \n",
      "4597                        14  \n",
      "4598                       118  \n",
      "4599                        78  \n",
      "4600                        40  \n",
      "\n",
      "[4601 rows x 57 columns]\n"
     ]
    }
   ],
   "source": [
    "from ucimlrepo import fetch_ucirepo\n",
    "\n",
    "# fetch dataset\n",
    "spambase = fetch_ucirepo(id=94)\n",
    "\n",
    "# data (as pandas dataframes)\n",
    "X = spambase.data.features\n",
    "y = spambase.data.targets\n",
    "\n",
    "print(X)"
   ]
  },
  {
   "cell_type": "code",
   "execution_count": 4,
   "id": "18e33c6e-792c-4edc-81bb-313477375ca2",
   "metadata": {
    "id": "18e33c6e-792c-4edc-81bb-313477375ca2",
    "outputId": "37614743-9caf-4e52-93ca-d5816448fed1"
   },
   "outputs": [
    {
     "name": "stdout",
     "output_type": "stream",
     "text": [
      "      Class\n",
      "0         1\n",
      "1         1\n",
      "2         1\n",
      "3         1\n",
      "4         1\n",
      "...     ...\n",
      "4596      0\n",
      "4597      0\n",
      "4598      0\n",
      "4599      0\n",
      "4600      0\n",
      "\n",
      "[4601 rows x 1 columns]\n"
     ]
    }
   ],
   "source": [
    "print(y)"
   ]
  },
  {
   "cell_type": "markdown",
   "id": "AWHk5faCwATr",
   "metadata": {
    "id": "AWHk5faCwATr"
   },
   "source": [
    "### Checking NULL values"
   ]
  },
  {
   "cell_type": "code",
   "execution_count": 5,
   "id": "8361ed46-1e6e-40fe-825c-befee49d7286",
   "metadata": {
    "id": "8361ed46-1e6e-40fe-825c-befee49d7286",
    "outputId": "d427a238-07e9-429b-dfd4-ffa58798679b"
   },
   "outputs": [
    {
     "name": "stdout",
     "output_type": "stream",
     "text": [
      "Number of null values in X: 0\n",
      "Number of null values in y: 0\n"
     ]
    }
   ],
   "source": [
    "# Count null values in X\n",
    "null_values_in_X = X.isnull().sum().sum()\n",
    "\n",
    "# Count null values in y\n",
    "null_values_in_y = y.isnull().sum().sum()\n",
    "\n",
    "# Print the counts\n",
    "print(\"Number of null values in X:\", null_values_in_X)\n",
    "print(\"Number of null values in y:\", null_values_in_y)"
   ]
  },
  {
   "cell_type": "markdown",
   "id": "6aoXuP7lwFL8",
   "metadata": {
    "id": "6aoXuP7lwFL8"
   },
   "source": [
    "### Analysis by plotting distribution"
   ]
  },
  {
   "cell_type": "code",
   "execution_count": 6,
   "id": "7a519e31-18e3-4a55-84f1-5ce68ee628a4",
   "metadata": {
    "id": "7a519e31-18e3-4a55-84f1-5ce68ee628a4",
    "outputId": "54e37bc6-33f1-4d10-8b72-8326819b3c39"
   },
   "outputs": [
    {
     "name": "stdout",
     "output_type": "stream",
     "text": [
      "word_freq_make\n"
     ]
    },
    {
     "data": {
      "text/plain": [
       "<Axes: >"
      ]
     },
     "execution_count": 6,
     "metadata": {},
     "output_type": "execute_result"
    },
    {
     "data": {
      "image/png": "[encoded data removed]",
      "text/plain": [
       "<Figure size 640x480 with 1 Axes>"
      ]
     },
     "metadata": {},
     "output_type": "display_data"
    }
   ],
   "source": [
    "col = X.columns\n",
    "print(col[0])\n",
    "X[col[0]].hist(bins=20)"
   ]
  },
  {
   "cell_type": "code",
   "execution_count": 7,
   "id": "84eaa887-4dab-40f8-939a-114d99a2ed91",
   "metadata": {
    "id": "84eaa887-4dab-40f8-939a-114d99a2ed91",
    "outputId": "d709d2e5-0bb0-498d-cccd-3b757d1ad329"
   },
   "outputs": [
    {
     "name": "stdout",
     "output_type": "stream",
     "text": [
      "word_freq_address\n"
     ]
    },
    {
     "data": {
      "text/plain": [
       "<Axes: >"
      ]
     },
     "execution_count": 7,
     "metadata": {},
     "output_type": "execute_result"
    },
    {
     "data": {
      "image/png": "[encoded data removed]",
      "text/plain": [
       "<Figure size 640x480 with 1 Axes>"
      ]
     },
     "metadata": {},
     "output_type": "display_data"
    }
   ],
   "source": [
    "print(col[1])\n",
    "X[col[1]].hist(bins=20)"
   ]
  },
  {
   "cell_type": "code",
   "execution_count": 8,
   "id": "87802be2-37cc-48ba-800d-4d959daaf6cd",
   "metadata": {
    "id": "87802be2-37cc-48ba-800d-4d959daaf6cd",
    "outputId": "d4551e4e-265b-47f0-941e-b8979a2b3c39"
   },
   "outputs": [
    {
     "name": "stdout",
     "output_type": "stream",
     "text": [
      "word_freq_all\n"
     ]
    },
    {
     "data": {
      "text/plain": [
       "<Axes: >"
      ]
     },
     "execution_count": 8,
     "metadata": {},
     "output_type": "execute_result"
    },
    {
     "data": {
      "image/png": "[encoded data removed]",
      "text/plain": [
       "<Figure size 640x480 with 1 Axes>"
      ]
     },
     "metadata": {},
     "output_type": "display_data"
    }
   ],
   "source": [
    "print(col[2])\n",
    "X[col[2]].hist(bins=20)"
   ]
  },
  {
   "cell_type": "markdown",
   "id": "u0sju4BbwSnq",
   "metadata": {
    "id": "u0sju4BbwSnq"
   },
   "source": [
    "### Printing metadata"
   ]
  },
  {
   "cell_type": "code",
   "execution_count": 9,
   "id": "199a0dc6-28d1-4446-99b0-4985a9cdaa52",
   "metadata": {
    "id": "199a0dc6-28d1-4446-99b0-4985a9cdaa52",
    "outputId": "ba6cdfd9-00bb-44e0-f3a9-4e33e2ee1446"
   },
   "outputs": [
    {
     "name": "stdout",
     "output_type": "stream",
     "text": [
      "{'uci_id': 94, 'name': 'Spambase', 'repository_url': 'https://archive.ics.uci.edu/dataset/94/spambase', 'data_url': 'https://archive.ics.uci.edu/static/public/94/data.csv', 'abstract': 'Classifying Email as Spam or Non-Spam', 'area': 'Computer Science', 'tasks': ['Classification'], 'characteristics': ['Multivariate'], 'num_instances': 4601, 'num_features': 57, 'feature_types': ['Integer', 'Real'], 'demographics': [], 'target_col': ['Class'], 'index_col': None, 'has_missing_values': 'no', 'missing_values_symbol': None, 'year_of_dataset_creation': 1999, 'last_updated': 'Mon Aug 28 2023', 'dataset_doi': '10.24432/C53G6X', 'creators': ['Mark Hopkins', 'Erik Reeber', 'George Forman', 'Jaap Suermondt'], 'intro_paper': None, 'additional_info': {'summary': 'The \"spam\" concept is diverse: advertisements for products/web sites, make money fast schemes, chain letters, pornography...\\n\\nThe classification task for this dataset is to determine whether a given email is spam or not.\\n\\t\\nOur collection of spam e-mails came from our postmaster and individuals who had filed spam.  Our collection of non-spam e-mails came from filed work and personal e-mails, and hence the word \\'george\\' and the area code \\'650\\' are indicators of non-spam.  These are useful when constructing a personalized spam filter.  One would either have to blind such non-spam indicators or get a very wide collection of non-spam to generate a general purpose spam filter.\\n\\nFor background on spam: Cranor, Lorrie F., LaMacchia, Brian A.  Spam!, Communications of the ACM, 41(8):74-83, 1998.\\n\\nTypical performance is around ~7% misclassification error. False positives (marking good mail as spam) are very undesirable.If we insist on zero false positives in the training/testing set, 20-25% of the spam passed through the filter. See also Hewlett-Packard Internal-only Technical Report. External version forthcoming. ', 'purpose': None, 'funded_by': None, 'instances_represent': 'Emails', 'recommended_data_splits': None, 'sensitive_data': None, 'preprocessing_description': None, 'variable_info': 'The last column of \\'spambase.data\\' denotes whether the e-mail was considered spam (1) or not (0), i.e. unsolicited commercial e-mail.  Most of the attributes indicate whether a particular word or character was frequently occuring in the e-mail.  The run-length attributes (55-57) measure the length of sequences of consecutive capital letters.  For the statistical measures of each attribute, see the end of this file.  Here are the definitions of the attributes:\\r\\n\\r\\n48 continuous real [0,100] attributes of type word_freq_WORD \\r\\n= percentage of words in the e-mail that match WORD, i.e. 100 * (number of times the WORD appears in the e-mail) / total number of words in e-mail.  A \"word\" in this case is any string of alphanumeric characters bounded by non-alphanumeric characters or end-of-string.\\r\\n\\r\\n6 continuous real [0,100] attributes of type char_freq_CHAR] \\r\\n= percentage of characters in the e-mail that match CHAR, i.e. 100 * (number of CHAR occurences) / total characters in e-mail\\r\\n\\r\\n1 continuous real [1,...] attribute of type capital_run_length_average \\r\\n= average length of uninterrupted sequences of capital letters\\r\\n\\r\\n1 continuous integer [1,...] attribute of type capital_run_length_longest \\r\\n= length of longest uninterrupted sequence of capital letters\\r\\n\\r\\n1 continuous integer [1,...] attribute of type capital_run_length_total \\r\\n= sum of length of uninterrupted sequences of capital letters \\r\\n= total number of capital letters in the e-mail\\r\\n\\r\\n1 nominal {0,1} class attribute of type spam\\r\\n= denotes whether the e-mail was considered spam (1) or not (0), i.e. unsolicited commercial e-mail.  \\r\\n', 'citation': None}}\n"
     ]
    }
   ],
   "source": [
    "# metadata\n",
    "print(spambase.metadata)"
   ]
  },
  {
   "cell_type": "markdown",
   "id": "5lOIEQ0YwWQ7",
   "metadata": {
    "id": "5lOIEQ0YwWQ7"
   },
   "source": [
    "### Printing Variables"
   ]
  },
  {
   "cell_type": "code",
   "execution_count": 10,
   "id": "c1ce80ba-5fae-4e8b-9a35-d28770cdfcef",
   "metadata": {
    "id": "c1ce80ba-5fae-4e8b-9a35-d28770cdfcef",
    "outputId": "66994e7f-a423-4c4e-e123-3ccc5486a947"
   },
   "outputs": [
    {
     "name": "stdout",
     "output_type": "stream",
     "text": [
      "                          name     role        type demographic  \\\n",
      "0               word_freq_make  Feature  Continuous        None   \n",
      "1            word_freq_address  Feature  Continuous        None   \n",
      "2                word_freq_all  Feature  Continuous        None   \n",
      "3                 word_freq_3d  Feature  Continuous        None   \n",
      "4                word_freq_our  Feature  Continuous        None   \n",
      "5               word_freq_over  Feature  Continuous        None   \n",
      "6             word_freq_remove  Feature  Continuous        None   \n",
      "7           word_freq_internet  Feature  Continuous        None   \n",
      "8              word_freq_order  Feature  Continuous        None   \n",
      "9               word_freq_mail  Feature  Continuous        None   \n",
      "10           word_freq_receive  Feature  Continuous        None   \n",
      "11              word_freq_will  Feature  Continuous        None   \n",
      "12            word_freq_people  Feature  Continuous        None   \n",
      "13            word_freq_report  Feature  Continuous        None   \n",
      "14         word_freq_addresses  Feature  Continuous        None   \n",
      "15              word_freq_free  Feature  Continuous        None   \n",
      "16          word_freq_business  Feature  Continuous        None   \n",
      "17             word_freq_email  Feature  Continuous        None   \n",
      "18               word_freq_you  Feature  Continuous        None   \n",
      "19            word_freq_credit  Feature  Continuous        None   \n",
      "20              word_freq_your  Feature  Continuous        None   \n",
      "21              word_freq_font  Feature  Continuous        None   \n",
      "22               word_freq_000  Feature  Continuous        None   \n",
      "23             word_freq_money  Feature  Continuous        None   \n",
      "24                word_freq_hp  Feature  Continuous        None   \n",
      "25               word_freq_hpl  Feature  Continuous        None   \n",
      "26            word_freq_george  Feature  Continuous        None   \n",
      "27               word_freq_650  Feature  Continuous        None   \n",
      "28               word_freq_lab  Feature  Continuous        None   \n",
      "29              word_freq_labs  Feature  Continuous        None   \n",
      "30            word_freq_telnet  Feature  Continuous        None   \n",
      "31               word_freq_857  Feature  Continuous        None   \n",
      "32              word_freq_data  Feature  Continuous        None   \n",
      "33               word_freq_415  Feature  Continuous        None   \n",
      "34                word_freq_85  Feature  Continuous        None   \n",
      "35        word_freq_technology  Feature  Continuous        None   \n",
      "36              word_freq_1999  Feature  Continuous        None   \n",
      "37             word_freq_parts  Feature  Continuous        None   \n",
      "38                word_freq_pm  Feature  Continuous        None   \n",
      "39            word_freq_direct  Feature  Continuous        None   \n",
      "40                word_freq_cs  Feature  Continuous        None   \n",
      "41           word_freq_meeting  Feature  Continuous        None   \n",
      "42          word_freq_original  Feature  Continuous        None   \n",
      "43           word_freq_project  Feature  Continuous        None   \n",
      "44                word_freq_re  Feature  Continuous        None   \n",
      "45               word_freq_edu  Feature  Continuous        None   \n",
      "46             word_freq_table  Feature  Continuous        None   \n",
      "47        word_freq_conference  Feature  Continuous        None   \n",
      "48                 char_freq_;  Feature  Continuous        None   \n",
      "49                 char_freq_(  Feature  Continuous        None   \n",
      "50                 char_freq_[  Feature  Continuous        None   \n",
      "51                 char_freq_!  Feature  Continuous        None   \n",
      "52                 char_freq_$  Feature  Continuous        None   \n",
      "53                 char_freq_#  Feature  Continuous        None   \n",
      "54  capital_run_length_average  Feature  Continuous        None   \n",
      "55  capital_run_length_longest  Feature  Continuous        None   \n",
      "56    capital_run_length_total  Feature  Continuous        None   \n",
      "57                       Class   Target      Binary        None   \n",
      "\n",
      "                 description units missing_values  \n",
      "0                       None  None             no  \n",
      "1                       None  None             no  \n",
      "2                       None  None             no  \n",
      "3                       None  None             no  \n",
      "4                       None  None             no  \n",
      "5                       None  None             no  \n",
      "6                       None  None             no  \n",
      "7                       None  None             no  \n",
      "8                       None  None             no  \n",
      "9                       None  None             no  \n",
      "10                      None  None             no  \n",
      "11                      None  None             no  \n",
      "12                      None  None             no  \n",
      "13                      None  None             no  \n",
      "14                      None  None             no  \n",
      "15                      None  None             no  \n",
      "16                      None  None             no  \n",
      "17                      None  None             no  \n",
      "18                      None  None             no  \n",
      "19                      None  None             no  \n",
      "20                      None  None             no  \n",
      "21                      None  None             no  \n",
      "22                      None  None             no  \n",
      "23                      None  None             no  \n",
      "24                      None  None             no  \n",
      "25                      None  None             no  \n",
      "26                      None  None             no  \n",
      "27                      None  None             no  \n",
      "28                      None  None             no  \n",
      "29                      None  None             no  \n",
      "30                      None  None             no  \n",
      "31                      None  None             no  \n",
      "32                      None  None             no  \n",
      "33                      None  None             no  \n",
      "34                      None  None             no  \n",
      "35                      None  None             no  \n",
      "36                      None  None             no  \n",
      "37                      None  None             no  \n",
      "38                      None  None             no  \n",
      "39                      None  None             no  \n",
      "40                      None  None             no  \n",
      "41                      None  None             no  \n",
      "42                      None  None             no  \n",
      "43                      None  None             no  \n",
      "44                      None  None             no  \n",
      "45                      None  None             no  \n",
      "46                      None  None             no  \n",
      "47                      None  None             no  \n",
      "48                      None  None             no  \n",
      "49                      None  None             no  \n",
      "50                      None  None             no  \n",
      "51                      None  None             no  \n",
      "52                      None  None             no  \n",
      "53                      None  None             no  \n",
      "54                      None  None             no  \n",
      "55                      None  None             no  \n",
      "56                      None  None             no  \n",
      "57  spam (1) or not spam (0)  None             no  \n"
     ]
    }
   ],
   "source": [
    "# variable information\n",
    "print(spambase.variables)"
   ]
  },
  {
   "cell_type": "markdown",
   "id": "vOEum4iNwad9",
   "metadata": {
    "id": "vOEum4iNwad9"
   },
   "source": [
    "## **Data loading:**  \n",
    "\n",
    "## 1.   Load the dataset and split it into training and testing set (80% for training, 20% for testing)."
   ]
  },
  {
   "cell_type": "code",
   "execution_count": 11,
   "id": "c0dc19e1-ac50-48ac-a35c-0e45a98079de",
   "metadata": {
    "id": "c0dc19e1-ac50-48ac-a35c-0e45a98079de"
   },
   "outputs": [],
   "source": [
    "from sklearn.preprocessing import RobustScaler\n",
    "\n",
    "# Initialize the RobustScaler\n",
    "scaler = RobustScaler()\n",
    "\n",
    "# Fit the scaler to your data and transform it\n",
    "X_scaled = scaler.fit_transform(X)"
   ]
  },
  {
   "cell_type": "code",
   "execution_count": 12,
   "id": "68a2dcff-c56d-48d2-bd74-fba20f3045a3",
   "metadata": {
    "id": "68a2dcff-c56d-48d2-bd74-fba20f3045a3"
   },
   "outputs": [],
   "source": [
    "from sklearn.model_selection import train_test_split\n",
    "from sklearn.svm import SVC\n",
    "X_train, X_test, y_train, y_test = train_test_split(X_scaled, y,test_size=0.2, random_state=42, shuffle=True)"
   ]
  },
  {
   "cell_type": "markdown",
   "id": "K70Q8hhq0zsI",
   "metadata": {
    "id": "K70Q8hhq0zsI"
   },
   "source": [
    "## **Part A: SVM Implementation:**\n"
   ]
  },
  {
   "cell_type": "markdown",
   "id": "XC-JgyHvx4oL",
   "metadata": {
    "id": "XC-JgyHvx4oL"
   },
   "source": [
    "\n",
    "### 1.  **Data loading:**  Load the dataset and split it into training and testing sets (80% for training,20% for testing).\n",
    "### 2.   **Training the SVM:** Vectorise the data into X and y vectors for the features and the labelrespectively.  Fit the SVM model on the training data and report the accuracy.\n",
    "\n",
    "\n"
   ]
  },
  {
   "cell_type": "code",
   "execution_count": null,
   "id": "cb5bab5a-5952-4c5b-89c6-687e222223eb",
   "metadata": {
    "id": "cb5bab5a-5952-4c5b-89c6-687e222223eb",
    "outputId": "8be16b04-87c8-48e2-f2e4-cb1ca14151e7"
   },
   "outputs": [
    {
     "name": "stdout",
     "output_type": "stream",
     "text": [
      "Training Accuracy    :     0.9347826086956522\n",
      "Test Accuracy        :     0.9261672095548317\n",
      "Precision            :     0.9262933981871572\n",
      "Recall               :     0.9261672095548317\n",
      "F1 Score             :     0.9259420155636343\n",
      "\n",
      "For C = 0.001\n",
      "For C = 0.1\n",
      "For C = 1\n",
      "For C = 10\n",
      "For C = 100\n"
     ]
    }
   ],
   "source": [
    "# Training the SVM\n",
    "svm_model = SVC(kernel='linear', C=1.0)\n",
    "svm_model.fit(X_train, y_train)\n",
    "\n",
    "# Report accuracy on the training set\n",
    "train_accuracy = accuracy_score(y_train, svm_model.predict(X_train))\n",
    "print(\"%-20s %-5s %-15s\"% (\"Training Accuracy\", \": \", str(train_accuracy)))\n",
    "#print(\"Training Accuracy: \" + str(train_accuracy))\n",
    "\n",
    "# Prediction and Evaluation\n",
    "y_pred = svm_model.predict(X_test)\n",
    "\n",
    "# Calculate accuracy, precision, recall, and F1-score on the test set\n",
    "accuracy = accuracy_score(y_test, y_pred)\n",
    "precision = precision_score(y_test, y_pred, average='weighted')\n",
    "recall = recall_score(y_test, y_pred, average='weighted')\n",
    "f1 = f1_score(y_test, y_pred, average='weighted')\n",
    "\n",
    "print(\"%-20s %-5s %-15s\"% (\"Test Accuracy\", \": \", str(accuracy)))\n",
    "print(\"%-20s %-5s %-15s\"% (\"Precision\", \": \",  str(precision)))\n",
    "print(\"%-20s %-5s %-15s\"% (\"Recall\", \": \", str(recall)))\n",
    "print(\"%-20s %-5s %-15s\"% (\"F1 Score\", \": \", str(f1)))\n",
    "print()\n",
    "# Regularization (C parameter)\n",
    "C_values = [0.001, 0.1, 1, 10, 100]\n",
    "accuracy_values = []\n",
    "parameter_values = {'n_support': [], 'number_support_vectors': [], 'coefficients': []}\n",
    "\n",
    "for C in C_values:\n",
    "    print(\"For C = {}\".format(C))\n",
    "    svm_model = SVC(kernel='linear', C=C)\n",
    "    svm_model.fit(X_train, y_train)\n",
    "    y_pred = svm_model.predict(X_test)\n",
    "    accuracy = accuracy_score(y_test, y_pred)\n",
    "    accuracy_values.append(accuracy)\n",
    "    n_support = svm_model.n_support_\n",
    "    number_support_vectors = len(svm_model.support_)\n",
    "    coefficients = svm_model.dual_coef_\n",
    "\n",
    "    parameter_values['n_support'].append(n_support)\n",
    "    parameter_values['number_support_vectors'].append(number_support_vectors)\n",
    "    parameter_values['coefficients'].append(coefficients)\n",
    "\n",
    "# Tabularize and plot the accuracy for different C values\n",
    "#for i in range(len(C_values)):\n",
    "#    print(\"C=\" + str(C_values[i]) + \": Accuracy=\" + str(accuracy_values[i]))"
   ]
  },
  {
   "cell_type": "markdown",
   "id": "YD5SnQZ-zdIj",
   "metadata": {
    "id": "YD5SnQZ-zdIj"
   },
   "source": [
    "### 3.   **Prediction and Evaluation:**  Implement functions to generate predictions on the test setand calculate accuracy, precision, recall, and F1-score for the SVM model.\n"
   ]
  },
  {
   "cell_type": "code",
   "execution_count": null,
   "id": "k9RakhfMzUMK",
   "metadata": {
    "id": "k9RakhfMzUMK"
   },
   "outputs": [],
   "source": [
    "print(\"\")\n",
    "print(\"%-20s %-15s\" % (\"C Value\", \"Accuracy\\n\"))\n",
    "for i in range(len(C_values)):\n",
    "    print(\"%-20s %-15s\" % (C_values[i], str(accuracy_values[i])))"
   ]
  },
  {
   "cell_type": "markdown",
   "id": "xnqeMJS6ze-G",
   "metadata": {
    "id": "xnqeMJS6ze-G"
   },
   "source": [
    "### 4.   **Regularisation:** Regularisation is necessary to overcome overfitting.  Vary the regularisationparameter of the SVM and tabularise and plot the accuracy.  You can use the following values:[ 0.001, 0.1, 1, 10, 100 ]   "
   ]
  },
  {
   "cell_type": "code",
   "execution_count": null,
   "id": "gVBhT67zzXU_",
   "metadata": {
    "id": "gVBhT67zzXU_"
   },
   "outputs": [],
   "source": [
    "plt.figure()\n",
    "plt.plot(C_values, accuracy_values, marker='o')\n",
    "plt.title('Accuracy vs. Regularization Parameter (C)')\n",
    "plt.xlabel('C')\n",
    "plt.ylabel('Accuracy')\n",
    "plt.xscale('log')\n",
    "plt.grid()\n",
    "plt.show()"
   ]
  },
  {
   "cell_type": "markdown",
   "id": "dXtjn-pozqBr",
   "metadata": {
    "id": "dXtjn-pozqBr"
   },
   "source": [
    "### **Optional**:  You can also observe the changes in the parameter values (by observing the mean,maximum, etc.)  as the value of the regularisation parameter is changed."
   ]
  },
  {
   "cell_type": "code",
   "execution_count": null,
   "id": "40eded96-d1e2-40ba-82d6-8b088c62ce13",
   "metadata": {
    "id": "40eded96-d1e2-40ba-82d6-8b088c62ce13",
    "outputId": "f76ad5e5-5b13-46fc-8a8f-e6098b6327ff"
   },
   "outputs": [],
   "source": [
    "# Tabularize and plot parameter values for different C values\n",
    "print(\"%-10s %-15s %-15s %-25s\" % (\"C\", \"n_support\", \"Number of SVs\", \"Coefficients (1st 5)\\n\"))\n",
    "for i in range(len(C_values)):\n",
    "    # Convert coefficients to a string\n",
    "    coefficients = parameter_values['coefficients'][i][0][:5]\n",
    "    #print(coefficients)\n",
    "    coefficients_str = str(coefficients)\n",
    "\n",
    "    print(\"%-10s %-15s %-15s %-25s\" % (C_values[i], parameter_values[\"n_support\"][i], parameter_values[\"number_support_vectors\"][i], coefficients_str))\n",
    "\n",
    "plt.figure()\n",
    "plt.plot(C_values, parameter_values['n_support'], marker='o', label='n_support')\n",
    "plt.plot(C_values, parameter_values['number_support_vectors'], marker='o', label='Number of Support Vectors')\n",
    "plt.title('Parameter Values vs. Regularization Parameter (C)')\n",
    "plt.xlabel('C')\n",
    "plt.ylabel('Parameter Value')\n",
    "plt.xscale('log')\n",
    "plt.grid()\n",
    "plt.legend()\n",
    "plt.show()"
   ]
  },
  {
   "cell_type": "markdown",
   "id": "6bpHo5uhzzwG",
   "metadata": {
    "id": "6bpHo5uhzzwG"
   },
   "source": [
    "## **Part B: Kernel Tricks**"
   ]
  },
  {
   "cell_type": "code",
   "execution_count": null,
   "id": "f6a0ca80-cff0-45a6-88f1-3c61f753a224",
   "metadata": {
    "id": "f6a0ca80-cff0-45a6-88f1-3c61f753a224"
   },
   "outputs": [],
   "source": [
    "from sklearn.preprocessing import MinMaxScaler\n",
    "\n",
    "# Initialize the StandardScaler\n",
    "scaler_PartB = MinMaxScaler()\n",
    "\n",
    "# Fit the scaler to your data and transform it\n",
    "X_scaled_PartB = scaler_PartB.fit_transform(X)"
   ]
  },
  {
   "cell_type": "code",
   "execution_count": null,
   "id": "029a9934-ca95-46df-a9a3-0d1415d734e4",
   "metadata": {
    "id": "029a9934-ca95-46df-a9a3-0d1415d734e4"
   },
   "outputs": [],
   "source": [
    "from sklearn.model_selection import train_test_split\n",
    "from sklearn.svm import SVC\n",
    "X_train_PartB, X_test_PartB, y_train_PartB, y_test_PartB = train_test_split(X_scaled_PartB, y,test_size=0.2, random_state=42, shuffle=True)"
   ]
  },
  {
   "cell_type": "markdown",
   "id": "k0GuzswIOyEu",
   "metadata": {
    "id": "k0GuzswIOyEu"
   },
   "source": [
    "### In this part of the assignment, we will observe the impact of various kernels on the performance of the model.\n",
    "### Report the **accuracy, precision, recall and F1 score** on the **test set** using the following kernels:\n",
    "### 1.  Polynomial with degree 2\n",
    "### 2.  Polynomial with degree 3\n",
    "### 3.  Sigmoid\n",
    "### 4.  Radial Basis Function (RBF)"
   ]
  },
  {
   "cell_type": "code",
   "execution_count": null,
   "id": "0bd5ae23-dd89-45ab-98c9-c5835bb53bdd",
   "metadata": {
    "id": "0bd5ae23-dd89-45ab-98c9-c5835bb53bdd",
    "outputId": "c48e5f5c-b3b5-4af2-a181-79033607840f"
   },
   "outputs": [],
   "source": [
    "from sklearn.svm import SVC\n",
    "from sklearn.metrics import accuracy_score, precision_score, recall_score, f1_score\n",
    "\n",
    "kernels = ['poly', 'poly', 'sigmoid', 'rbf']\n",
    "degrees = [2, 3, None, None]\n",
    "\n",
    "results = []\n",
    "\n",
    "for kernel, degree in zip(kernels, degrees):\n",
    "    if kernel == 'poly':\n",
    "        model = SVC(kernel=kernel, degree=degree)\n",
    "    else:\n",
    "        model = SVC(kernel=kernel)\n",
    "\n",
    "    model.fit(X_train_PartB, y_train_PartB)\n",
    "    y_pred_PartB = model.predict(X_test_PartB)\n",
    "\n",
    "    accuracy = accuracy_score(y_test_PartB, y_pred_PartB)\n",
    "    precision = precision_score(y_test_PartB, y_pred_PartB)\n",
    "    recall = recall_score(y_test_PartB, y_pred_PartB)\n",
    "    f1 = f1_score(y_test_PartB, y_pred_PartB)\n",
    "\n",
    "    results.append({\n",
    "        'Kernel': kernel,\n",
    "        'Degree': degree if degree else 'N/A',\n",
    "        'Accuracy': round(accuracy, 2),\n",
    "        'Precision': round(precision, 2),\n",
    "        'Recall': round(recall, 2),\n",
    "        'F1 Score': round(f1, 2)\n",
    "    })\n",
    "\n",
    "print(\"%-15s %-15s %-15s %-15s %-15s %-15s\" % (\"Kernel\", \"Degree\", \"Accuracy\", \"Precision\", \"Recall\", \"F1 Score\"))\n",
    "print()\n",
    "# Print or store the results\n",
    "for result in results:\n",
    "    print(\"%-15s %-15s %-15s %-15s %-15s %-15s\" % (result[\"Kernel\"], result[\"Degree\"], result[\"Accuracy\"], result[\"Precision\"], result[\"Recall\"], result[\"F1 Score\"]))\n"
   ]
  },
  {
   "cell_type": "markdown",
   "id": "6tK_EbmOQEE1",
   "metadata": {
    "id": "6tK_EbmOQEE1"
   },
   "source": [
    "## **Part C: Overfitting & Underfitting Analysis**"
   ]
  },
  {
   "cell_type": "markdown",
   "id": "V5CWafMBQycs",
   "metadata": {
    "id": "V5CWafMBQycs"
   },
   "source": [
    "### In this part, we will explore the **impact of kernel complexity and regularization in SVMs on model performance**, and the presence of underfitting or overfitting.\n",
    "\n",
    "### 1.  Reuse training and testing datasets from Part A.\n",
    "### 2.  Train SVM models with **different degrees of the polynomial kernel and different 'C'** values as mentioned in Table 1,\n",
    "\n",
    "\n",
    "  <table style=\"width:60%; font-size:15px;\">\n",
    "  <tr>\n",
    "    <th>Experiment</th>\n",
    "    <th>Polynomial Degree</th>\n",
    "    <th>Regularization Parameter 'C'</th>\n",
    "  </tr>\n",
    "  <tr>\n",
    "    <td>1</td>\n",
    "    <td>1</td>\n",
    "    <td>0.01</td>\n",
    "  </tr>\n",
    "  <tr>\n",
    "    <td>2</td>\n",
    "    <td>1</td>\n",
    "    <td>100</td>\n",
    "  </tr>\n",
    "  <tr>\n",
    "    <td>3</td>\n",
    "    <td>3</td>\n",
    "    <td>0.01</td>\n",
    "  </tr>\n",
    "  <tr>\n",
    "    <td>4</td>\n",
    "    <td>3</td>\n",
    "    <td>100</td>\n",
    "  </tr>\n",
    "</table>\n"
   ]
  },
  {
   "cell_type": "code",
   "execution_count": null,
   "id": "0ee3dd36-af94-48cf-b753-1bab3829a964",
   "metadata": {
    "id": "0ee3dd36-af94-48cf-b753-1bab3829a964",
    "outputId": "ba40be3e-bc0b-4a4d-dd23-e8bf11b66c2b"
   },
   "outputs": [],
   "source": [
    "degrees = [1, 1, 3, 3]  # Polynomial degrees\n",
    "C_values = [0.01, 100, 0.01, 100]  # Regularization parameters\n",
    "\n",
    "# Create dictionaries to store accuracy results for train and test sets\n",
    "train_accuracy_results = {}\n",
    "test_accuracy_results = {}\n",
    "results = {}\n",
    "for i in range(len(degrees)):\n",
    "    results[degrees[i]]=[]\n",
    "# Loop over different degrees and C values\n",
    "for i in range(len(degrees)):\n",
    "        # Create and train the SVM model with the specified degree and C\n",
    "        svm_model = SVC(kernel='poly', degree=degrees[i], C=C_values[i])\n",
    "        svm_model.fit(X_train_PartB, y_train_PartB)\n",
    "\n",
    "        # Calculate accuracy on the train and test sets\n",
    "        train_accuracy = svm_model.score(X_train_PartB, y_train_PartB)\n",
    "        test_accuracy = svm_model.score(X_test_PartB, y_test_PartB)\n",
    "        results[degrees[i]].append([C_values[i], round(train_accuracy, 2), round(test_accuracy, 2)])\n",
    "        # Store the results in the dictionaries\n",
    "        train_accuracy_results[(degrees[i], C_values[i])] = train_accuracy\n",
    "        test_accuracy_results[(degrees[i], C_values[i])] = test_accuracy\n",
    "\n",
    "# Tabulate the results (you can use a more elaborate table library for this)\n",
    "print(\"Degree   C       Train Accuracy  Test Accuracy\")\n",
    "print()\n",
    "for (degree, C), train_accuracy in train_accuracy_results.items():\n",
    "    test_accuracy = test_accuracy_results[(degree, C)]\n",
    "    print(\"%-6s   %-6s  %.2f           %.2f\" % (degree, C, train_accuracy, test_accuracy))"
   ]
  },
  {
   "cell_type": "markdown",
   "id": "vtoDCPNCRA25",
   "metadata": {
    "id": "vtoDCPNCRA25"
   },
   "source": [
    "### Ploting and tabulating the test and train accuracy to showcase overfitting and underfitting."
   ]
  },
  {
   "cell_type": "code",
   "execution_count": null,
   "id": "28837dc4-c736-4817-a758-c54fab4c17ab",
   "metadata": {
    "id": "28837dc4-c736-4817-a758-c54fab4c17ab",
    "outputId": "35c53cf8-0a29-452b-eea9-4779399726f1"
   },
   "outputs": [],
   "source": [
    "for degree in results:\n",
    "    c=[]\n",
    "    train=[]\n",
    "    test=[]\n",
    "    for val in results[degree]:\n",
    "        #print(degree, val[0], val[1], val[2])\n",
    "        c.append(val[0])\n",
    "        train.append(val[1])\n",
    "        test.append(val[2])\n",
    "    plt.figure()\n",
    "    plt.plot(c, train, marker='o', label='Train Accuracy')\n",
    "    plt.plot(c, test, marker='o', label='Test Accuracy')\n",
    "    plt.title('For Polynomial of Degree {} Accuracy vs. Regularization Parameter (C)'.format(degree))\n",
    "    plt.xlabel('C')\n",
    "    plt.ylabel('Accuracy')\n",
    "    plt.grid()\n",
    "    plt.legend()\n",
    "    plt.show()"
   ]
  },
  {
   "cell_type": "code",
   "execution_count": null,
   "id": "cedd4f10-b217-4170-91f6-00597dae8b88",
   "metadata": {
    "id": "cedd4f10-b217-4170-91f6-00597dae8b88"
   },
   "outputs": [],
   "source": []
  }
 ],
 "metadata": {
  "colab": {
   "provenance": []
  },
  "kernelspec": {
   "display_name": "venv",
   "language": "python",
   "name": "venv"
  },
  "language_info": {
   "codemirror_mode": {
    "name": "ipython",
    "version": 3
   },
   "file_extension": ".py",
   "mimetype": "text/x-python",
   "name": "python",
   "nbconvert_exporter": "python",
   "pygments_lexer": "ipython3",
   "version": "3.12.0"
  }
 },
 "nbformat": 4,
 "nbformat_minor": 5
}
